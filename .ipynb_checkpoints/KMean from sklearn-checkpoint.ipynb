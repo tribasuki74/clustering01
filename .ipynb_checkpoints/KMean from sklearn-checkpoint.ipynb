{
 "cells": [
  {
   "cell_type": "code",
   "execution_count": 1,
   "metadata": {
    "scrolled": false
   },
   "outputs": [
    {
     "name": "stdout",
     "output_type": "stream",
     "text": [
      "            lat       lng\n",
      "0    101.671521  3.108459\n",
      "1    101.642770  3.166217\n",
      "2    101.674980  3.058430\n",
      "3    101.706784  3.146544\n",
      "4    101.700153  3.072845\n",
      "..          ...       ...\n",
      "448  101.666171  3.110972\n",
      "449  101.714256  3.124467\n",
      "450  101.642516  3.168135\n",
      "451  101.708522  3.156022\n",
      "452  101.676220  3.121262\n",
      "\n",
      "[453 rows x 2 columns]\n"
     ]
    }
   ],
   "source": [
    "import pandas as pd\n",
    "\n",
    "file_url = \"dataset/geolocation.csv\"\n",
    "\n",
    "data = pd.read_csv(file_url)\n",
    "features = data[['lat', 'lng']]\n",
    "print(features)\n"
   ]
  },
  {
   "cell_type": "code",
   "execution_count": 2,
   "metadata": {},
   "outputs": [],
   "source": [
    "from sklearn.cluster import KMeans\n",
    "\n",
    "# create kmeans model/object\n",
    "kmeans = KMeans(\n",
    "    init=\"random\",\n",
    "    n_clusters=16,\n",
    "    n_init=10,\n",
    "    max_iter=300,\n",
    "    random_state=42\n",
    ")"
   ]
  },
  {
   "cell_type": "code",
   "execution_count": 3,
   "metadata": {},
   "outputs": [],
   "source": [
    "# do clustering\n",
    "kmeans.fit(features)\n",
    "\n",
    "# save results\n",
    "labels = kmeans.labels_"
   ]
  },
  {
   "cell_type": "code",
   "execution_count": 4,
   "metadata": {},
   "outputs": [
    {
     "name": "stdout",
     "output_type": "stream",
     "text": [
      "cluster\n",
      "0     28\n",
      "1     21\n",
      "2     26\n",
      "3     36\n",
      "4     24\n",
      "5     30\n",
      "6     32\n",
      "7     28\n",
      "8     30\n",
      "9     27\n",
      "10    26\n",
      "11    34\n",
      "12    34\n",
      "13    38\n",
      "14    22\n",
      "15    17\n",
      "Name: no, dtype: int64\n"
     ]
    }
   ],
   "source": [
    "# send back into dataframe and display it\n",
    "data['cluster'] = labels\n",
    "\n",
    "# display the number of mamber each clustering\n",
    "_clusters = data.groupby('cluster')['no'].count()\n",
    "print(_clusters)"
   ]
  },
  {
   "cell_type": "code",
   "execution_count": null,
   "metadata": {},
   "outputs": [],
   "source": []
  }
 ],
 "metadata": {
  "kernelspec": {
   "display_name": "Python 3",
   "language": "python",
   "name": "python3"
  },
  "language_info": {
   "codemirror_mode": {
    "name": "ipython",
    "version": 3
   },
   "file_extension": ".py",
   "mimetype": "text/x-python",
   "name": "python",
   "nbconvert_exporter": "python",
   "pygments_lexer": "ipython3",
   "version": "3.6.12"
  }
 },
 "nbformat": 4,
 "nbformat_minor": 2
}
